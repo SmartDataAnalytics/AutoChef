{
 "cells": [
  {
   "cell_type": "markdown",
   "metadata": {},
   "source": [
    "# CRF entity recognition evaluation"
   ]
  },
  {
   "cell_type": "code",
   "execution_count": 1,
   "metadata": {},
   "outputs": [],
   "source": [
    "from IPython.core.display import Markdown, HTML, display\n",
    "\n",
    "import sys\n",
    "sys.path.insert(0, '..')  # noqa\n",
    "import settings  # noqa\n",
    "\n",
    "import crf_data_generator as cdg\n",
    "import pycrfsuite\n",
    "\n",
    "import numpy as np"
   ]
  },
  {
   "cell_type": "code",
   "execution_count": 2,
   "metadata": {},
   "outputs": [],
   "source": [
    "#data = cdg.ConlluCRFReader(\"../\" + settings.gzipped_conllu_data_root + \"recipes2.conllu.gz\")\n",
    "data = cdg.ConlluCRFReader(\"filtered_recipes.conllu\")\n",
    "\n",
    "data_iterator = iter(data)"
   ]
  },
  {
   "cell_type": "code",
   "execution_count": 3,
   "metadata": {},
   "outputs": [],
   "source": [
    "def sentence_as_markdown_table( tokens, labels = None, predictions = None):\n",
    "    n = len(tokens)\n",
    "    s = \"<table>\\n<tr>\\n<th>Sentence:</th>\\n\"\n",
    "    for t in tokens:\n",
    "        s += f\"<th>{t}</th>\"\n",
    "    \n",
    "    s += \"<tr>\\n\"\n",
    "    \n",
    "    if labels is not None:\n",
    "        s += \"<th>labels:</th>\" + \"\".join([f\"<th>{l}</th>\" for l in labels])\n",
    "        s += \"</tr>\\n\"\n",
    "    \n",
    "    if predictions is not None:\n",
    "        s+= \"<th>Predicitions:</th>\" + \"\".join([f\"<th>{p}</th>\" for p in predictions])\n",
    "    \n",
    "    display(HTML(s + \"</tr>\\n</table>\\n\\n\"))\n",
    "\n",
    "    \n",
    "    "
   ]
  },
  {
   "cell_type": "code",
   "execution_count": 4,
   "metadata": {},
   "outputs": [
    {
     "data": {
      "text/plain": [
       "<contextlib.closing at 0x7f0c35cba250>"
      ]
     },
     "execution_count": 4,
     "metadata": {},
     "output_type": "execute_result"
    }
   ],
   "source": [
    "tagger = pycrfsuite.Tagger()\n",
    "tagger.open('test.crfsuite')"
   ]
  },
  {
   "cell_type": "markdown",
   "metadata": {},
   "source": [
    "## Error Rate:"
   ]
  },
  {
   "cell_type": "code",
   "execution_count": 5,
   "metadata": {},
   "outputs": [
    {
     "ename": "IndexError",
     "evalue": "list index out of range",
     "output_type": "error",
     "traceback": [
      "\u001b[0;31m---------------------------------------------------------------------------\u001b[0m",
      "\u001b[0;31mIndexError\u001b[0m                                Traceback (most recent call last)",
      "\u001b[0;32m<ipython-input-5-df3e3a31d984>\u001b[0m in \u001b[0;36m<module>\u001b[0;34m\u001b[0m\n\u001b[1;32m      4\u001b[0m \u001b[0mpred_ingredients\u001b[0m \u001b[0;34m=\u001b[0m \u001b[0;34m[\u001b[0m\u001b[0;34m]\u001b[0m\u001b[0;34m\u001b[0m\u001b[0;34m\u001b[0m\u001b[0m\n\u001b[1;32m      5\u001b[0m \u001b[0;34m\u001b[0m\u001b[0m\n\u001b[0;32m----> 6\u001b[0;31m \u001b[0;32mfor\u001b[0m \u001b[0mfeatures\u001b[0m\u001b[0;34m,\u001b[0m \u001b[0mlabels\u001b[0m\u001b[0;34m,\u001b[0m \u001b[0mtokens\u001b[0m \u001b[0;32min\u001b[0m \u001b[0mdata\u001b[0m\u001b[0;34m:\u001b[0m\u001b[0;34m\u001b[0m\u001b[0;34m\u001b[0m\u001b[0m\n\u001b[0m\u001b[1;32m      7\u001b[0m     \u001b[0mpred\u001b[0m \u001b[0;34m=\u001b[0m \u001b[0mtagger\u001b[0m\u001b[0;34m.\u001b[0m\u001b[0mtag\u001b[0m\u001b[0;34m(\u001b[0m\u001b[0mfeatures\u001b[0m\u001b[0;34m)\u001b[0m\u001b[0;34m\u001b[0m\u001b[0;34m\u001b[0m\u001b[0m\n\u001b[1;32m      8\u001b[0m     \u001b[0;32mfor\u001b[0m \u001b[0mi\u001b[0m \u001b[0;32min\u001b[0m \u001b[0mrange\u001b[0m\u001b[0;34m(\u001b[0m\u001b[0mlen\u001b[0m\u001b[0;34m(\u001b[0m\u001b[0mtokens\u001b[0m\u001b[0;34m)\u001b[0m\u001b[0;34m)\u001b[0m\u001b[0;34m:\u001b[0m\u001b[0;34m\u001b[0m\u001b[0;34m\u001b[0m\u001b[0m\n",
      "\u001b[0;32m~/Dokumente/gitRepos/master_thesis/Tagging/crf_data_generator.py\u001b[0m in \u001b[0;36m__next__\u001b[0;34m(self)\u001b[0m\n\u001b[1;32m    107\u001b[0m \u001b[0;34m\u001b[0m\u001b[0m\n\u001b[1;32m    108\u001b[0m         \u001b[0;32mif\u001b[0m \u001b[0;32mnot\u001b[0m \u001b[0mself\u001b[0m\u001b[0;34m.\u001b[0m\u001b[0m_parent\u001b[0m\u001b[0;34m.\u001b[0m\u001b[0m_iter_documents\u001b[0m\u001b[0;34m:\u001b[0m\u001b[0;34m\u001b[0m\u001b[0;34m\u001b[0m\u001b[0m\n\u001b[0;32m--> 109\u001b[0;31m             \u001b[0mnext_sent\u001b[0m \u001b[0;34m=\u001b[0m \u001b[0mself\u001b[0m\u001b[0;34m.\u001b[0m\u001b[0m_iter\u001b[0m\u001b[0;34m.\u001b[0m\u001b[0m__next__\u001b[0m\u001b[0;34m(\u001b[0m\u001b[0;34m)\u001b[0m\u001b[0;34m[\u001b[0m\u001b[0;36m0\u001b[0m\u001b[0;34m]\u001b[0m\u001b[0;34m\u001b[0m\u001b[0;34m\u001b[0m\u001b[0m\n\u001b[0m\u001b[1;32m    110\u001b[0m             \u001b[0mfeatures\u001b[0m \u001b[0;34m=\u001b[0m \u001b[0msent2features\u001b[0m\u001b[0;34m(\u001b[0m\u001b[0mnext_sent\u001b[0m\u001b[0;34m)\u001b[0m\u001b[0;34m\u001b[0m\u001b[0;34m\u001b[0m\u001b[0m\n\u001b[1;32m    111\u001b[0m             \u001b[0mlabels\u001b[0m \u001b[0;34m=\u001b[0m \u001b[0msent2labels\u001b[0m\u001b[0;34m(\u001b[0m\u001b[0mnext_sent\u001b[0m\u001b[0;34m)\u001b[0m\u001b[0;34m\u001b[0m\u001b[0;34m\u001b[0m\u001b[0m\n",
      "\u001b[0;31mIndexError\u001b[0m: list index out of range"
     ]
    }
   ],
   "source": [
    "label_actions = []\n",
    "label_ingredients = []\n",
    "pred_actions = []\n",
    "pred_ingredients = []\n",
    "\n",
    "for features, labels, tokens in data:\n",
    "    pred = tagger.tag(features)\n",
    "    for i in range(len(tokens)):\n",
    "        label_actions.append(labels[i] == \"action\")\n",
    "        label_ingredients.append(labels[i] == \"ingredient\")\n",
    "        pred_actions.append(pred[i] == \"action\")\n",
    "        pred_ingredients.append(pred[i] == \"ingredient\")\n",
    "    "
   ]
  },
  {
   "cell_type": "code",
   "execution_count": null,
   "metadata": {},
   "outputs": [],
   "source": [
    "label_actions = np.array(label_actions, dtype=np.bool)\n",
    "label_ingredients = np.array(label_ingredients, dtype=np.bool)\n",
    "pred_actions = np.array(pred_actions, dtype=np.bool)\n",
    "pred_ingredients = np.array(pred_ingredients, dtype=np.bool)\n",
    "\n",
    "len(label_actions)"
   ]
  },
  {
   "cell_type": "code",
   "execution_count": null,
   "metadata": {},
   "outputs": [],
   "source": [
    "a_tp = np.sum(label_actions & pred_actions)\n",
    "i_tp = np.sum(label_ingredients & pred_ingredients)\n",
    "\n",
    "a_fp = np.sum(np.logical_not(label_actions) & pred_actions)\n",
    "i_fp = np.sum(np.logical_not(label_ingredients) & pred_ingredients)\n",
    "\n",
    "Markdown(f\"\"\"\n",
    "* **\\# all tokens**: {len(label_ingredients)}\n",
    "\n",
    "\n",
    "* **\\# real actions**: {np.sum(label_actions)}\n",
    "* **\\# predicted actions**: {np.sum(pred_actions)}\n",
    "\n",
    "\n",
    "* **\\# real ingredients**: {np.sum(label_ingredients)}\n",
    "* **\\# predicted ingredients**: {np.sum(pred_ingredients)} \n",
    "\n",
    "\n",
    "* **action error**: {1 - np.sum(label_actions == pred_actions) / len(label_ingredients)}\n",
    "* **ingredient error**: {1 - np.sum(label_ingredients == pred_ingredients) / len(label_ingredients)}\n",
    "\n",
    "* **action true positives**: {a_tp} of {np.sum(label_actions)} ({a_tp / np.sum(label_actions)})\n",
    "* **ingredient true positives**: {i_tp} of {np.sum(label_ingredients)} ({i_tp / np.sum(label_ingredients)})\n",
    "\n",
    "* **action false positives**: {a_fp} of {np.sum(label_actions)} ({a_fp / np.sum(label_actions)})\n",
    "* **ingredient false positives**: {i_fp} of {np.sum(label_ingredients)} ({i_fp / np.sum(label_ingredients)})\n",
    "\n",
    "\n",
    "\n",
    "\"\"\")"
   ]
  },
  {
   "cell_type": "markdown",
   "metadata": {},
   "source": [
    "## Evaluation Example"
   ]
  },
  {
   "cell_type": "code",
   "execution_count": 9,
   "metadata": {},
   "outputs": [
    {
     "data": {
      "text/html": [
       "<table>\n",
       "<tr>\n",
       "<th>Sentence:</th>\n",
       "<th>Dissolve</th><th>Jello</th><th>in</th><th>boiling</th><th>water</th><th>.</th><tr>\n",
       "<th>labels:</th><th>0</th><th>ingredient</th><th>0</th><th>action</th><th>ingredient</th><th>0</th></tr>\n",
       "<th>Predicitions:</th><th>0</th><th>ingredient</th><th>0</th><th>action</th><th>ingredient</th><th>0</th></tr>\n",
       "</table>\n",
       "\n"
      ],
      "text/plain": [
       "<IPython.core.display.HTML object>"
      ]
     },
     "metadata": {},
     "output_type": "display_data"
    },
    {
     "data": {
      "text/html": [
       "<table>\n",
       "<tr>\n",
       "<th>Sentence:</th>\n",
       "<th>Allow</th><th>to</th><th>cool</th><th>to</th><th>room</th><th>temp</th><th>.</th><tr>\n",
       "<th>labels:</th><th>0</th><th>0</th><th>action</th><th>0</th><th>0</th><th>0</th><th>0</th></tr>\n",
       "<th>Predicitions:</th><th>0</th><th>0</th><th>action</th><th>0</th><th>0</th><th>0</th><th>0</th></tr>\n",
       "</table>\n",
       "\n"
      ],
      "text/plain": [
       "<IPython.core.display.HTML object>"
      ]
     },
     "metadata": {},
     "output_type": "display_data"
    },
    {
     "data": {
      "text/html": [
       "<table>\n",
       "<tr>\n",
       "<th>Sentence:</th>\n",
       "<th>Whisk</th><th>in</th><th>Cool_Whip</th><th>.</th><tr>\n",
       "<th>labels:</th><th>action</th><th>0</th><th>ingredient</th><th>0</th></tr>\n",
       "<th>Predicitions:</th><th>action</th><th>0</th><th>ingredient</th><th>0</th></tr>\n",
       "</table>\n",
       "\n"
      ],
      "text/plain": [
       "<IPython.core.display.HTML object>"
      ]
     },
     "metadata": {},
     "output_type": "display_data"
    },
    {
     "data": {
      "text/html": [
       "<table>\n",
       "<tr>\n",
       "<th>Sentence:</th>\n",
       "<th>Fold</th><th>in</th><th>watermelon</th><th>.</th><tr>\n",
       "<th>labels:</th><th>action</th><th>0</th><th>ingredient</th><th>0</th></tr>\n",
       "<th>Predicitions:</th><th>action</th><th>0</th><th>ingredient</th><th>0</th></tr>\n",
       "</table>\n",
       "\n"
      ],
      "text/plain": [
       "<IPython.core.display.HTML object>"
      ]
     },
     "metadata": {},
     "output_type": "display_data"
    },
    {
     "data": {
      "text/html": [
       "<table>\n",
       "<tr>\n",
       "<th>Sentence:</th>\n",
       "<th>Spoon</th><th>into</th><th>crust</th><th>.</th><tr>\n",
       "<th>labels:</th><th>action</th><th>0</th><th>ingredient</th><th>0</th></tr>\n",
       "<th>Predicitions:</th><th>action</th><th>0</th><th>ingredient</th><th>0</th></tr>\n",
       "</table>\n",
       "\n"
      ],
      "text/plain": [
       "<IPython.core.display.HTML object>"
      ]
     },
     "metadata": {},
     "output_type": "display_data"
    },
    {
     "data": {
      "text/html": [
       "<table>\n",
       "<tr>\n",
       "<th>Sentence:</th>\n",
       "<th>Chill</th><th>for</th><th>2-3</th><th>hours</th><th>or</th><th>overnight</th><th>.</th><tr>\n",
       "<th>labels:</th><th>action</th><th>0</th><th>0</th><th>0</th><th>0</th><th>0</th><th>0</th></tr>\n",
       "<th>Predicitions:</th><th>action</th><th>0</th><th>0</th><th>0</th><th>0</th><th>0</th><th>0</th></tr>\n",
       "</table>\n",
       "\n"
      ],
      "text/plain": [
       "<IPython.core.display.HTML object>"
      ]
     },
     "metadata": {},
     "output_type": "display_data"
    },
    {
     "data": {
      "text/html": [
       "<table>\n",
       "<tr>\n",
       "<th>Sentence:</th>\n",
       "<th>Yum</th><th>!</th><tr>\n",
       "<th>labels:</th><th>0</th><th>0</th></tr>\n",
       "<th>Predicitions:</th><th>0</th><th>0</th></tr>\n",
       "</table>\n",
       "\n"
      ],
      "text/plain": [
       "<IPython.core.display.HTML object>"
      ]
     },
     "metadata": {},
     "output_type": "display_data"
    },
    {
     "data": {
      "text/html": [
       "<table>\n",
       "<tr>\n",
       "<th>Sentence:</th>\n",
       "<th>Layer</th><th>all</th><th>ingredients</th><th>in</th><th>a</th><th>serving</th><th>dish</th><th>.</th><tr>\n",
       "<th>labels:</th><th>0</th><th>0</th><th>placeholders</th><th>0</th><th>0</th><th>0</th><th>0</th><th>0</th></tr>\n",
       "<th>Predicitions:</th><th>0</th><th>0</th><th>placeholders</th><th>0</th><th>0</th><th>0</th><th>0</th><th>0</th></tr>\n",
       "</table>\n",
       "\n"
      ],
      "text/plain": [
       "<IPython.core.display.HTML object>"
      ]
     },
     "metadata": {},
     "output_type": "display_data"
    },
    {
     "data": {
      "text/html": [
       "<table>\n",
       "<tr>\n",
       "<th>Sentence:</th>\n",
       "<th>Mix</th><th>above</th><th>ingredients</th><th>together</th><th>until</th><th>smooth</th><th>.</th><tr>\n",
       "<th>labels:</th><th>action</th><th>0</th><th>placeholders</th><th>0</th><th>0</th><th>0</th><th>0</th></tr>\n",
       "<th>Predicitions:</th><th>action</th><th>0</th><th>placeholders</th><th>0</th><th>0</th><th>0</th><th>0</th></tr>\n",
       "</table>\n",
       "\n"
      ],
      "text/plain": [
       "<IPython.core.display.HTML object>"
      ]
     },
     "metadata": {},
     "output_type": "display_data"
    },
    {
     "data": {
      "text/html": [
       "<table>\n",
       "<tr>\n",
       "<th>Sentence:</th>\n",
       "<th>Enjoy</th><th>!</th><tr>\n",
       "<th>labels:</th><th>0</th><th>0</th></tr>\n",
       "<th>Predicitions:</th><th>0</th><th>0</th></tr>\n",
       "</table>\n",
       "\n"
      ],
      "text/plain": [
       "<IPython.core.display.HTML object>"
      ]
     },
     "metadata": {},
     "output_type": "display_data"
    },
    {
     "data": {
      "text/html": [
       "<table>\n",
       "<tr>\n",
       "<th>Sentence:</th>\n",
       "<th>Combine</th><th>ingredients</th><th>.</th><tr>\n",
       "<th>labels:</th><th>action</th><th>placeholders</th><th>0</th></tr>\n",
       "<th>Predicitions:</th><th>action</th><th>placeholders</th><th>0</th></tr>\n",
       "</table>\n",
       "\n"
      ],
      "text/plain": [
       "<IPython.core.display.HTML object>"
      ]
     },
     "metadata": {},
     "output_type": "display_data"
    },
    {
     "data": {
      "text/html": [
       "<table>\n",
       "<tr>\n",
       "<th>Sentence:</th>\n",
       "<th>In</th><th>a</th><th>bowl</th><th>,</th><th>combine</th><th>corned</th><th>beef</th><th>,</th><th>shrd</th><th>.</th><tr>\n",
       "<th>labels:</th><th>0</th><th>0</th><th>0</th><th>0</th><th>action</th><th>ingredient</th><th>ingredient</th><th>0</th><th>0</th><th>0</th></tr>\n",
       "<th>Predicitions:</th><th>0</th><th>0</th><th>0</th><th>0</th><th>action</th><th>0</th><th>ingredient</th><th>0</th><th>ingredient</th><th>0</th></tr>\n",
       "</table>\n",
       "\n"
      ],
      "text/plain": [
       "<IPython.core.display.HTML object>"
      ]
     },
     "metadata": {},
     "output_type": "display_data"
    },
    {
     "data": {
      "text/html": [
       "<table>\n",
       "<tr>\n",
       "<th>Sentence:</th>\n",
       "<th>cheddar</th><th>,</th><th>mayo.</th><th>,</th><th>onion</th><th>,</th><th>and</th><th>relish</th><th>.</th><tr>\n",
       "<th>labels:</th><th>0</th><th>0</th><th>0</th><th>0</th><th>ingredient</th><th>0</th><th>0</th><th>ingredient</th><th>0</th></tr>\n",
       "<th>Predicitions:</th><th>0</th><th>0</th><th>0</th><th>0</th><th>ingredient</th><th>0</th><th>0</th><th>action</th><th>0</th></tr>\n",
       "</table>\n",
       "\n"
      ],
      "text/plain": [
       "<IPython.core.display.HTML object>"
      ]
     },
     "metadata": {},
     "output_type": "display_data"
    },
    {
     "data": {
      "text/html": [
       "<table>\n",
       "<tr>\n",
       "<th>Sentence:</th>\n",
       "<th>Spread</th><th>atop</th><th>buttered/toasted</th><th>burger_buns</th><th>,</th><th>replace</th><th>tops</th><th>.</th><tr>\n",
       "<th>labels:</th><th>action</th><th>0</th><th>0</th><th>0</th><th>0</th><th>0</th><th>0</th><th>0</th></tr>\n",
       "<th>Predicitions:</th><th>action</th><th>0</th><th>action</th><th>ingredient</th><th>0</th><th>action</th><th>0</th><th>0</th></tr>\n",
       "</table>\n",
       "\n"
      ],
      "text/plain": [
       "<IPython.core.display.HTML object>"
      ]
     },
     "metadata": {},
     "output_type": "display_data"
    },
    {
     "data": {
      "text/html": [
       "<table>\n",
       "<tr>\n",
       "<th>Sentence:</th>\n",
       "<th>Place</th><th>on</th><th>cookie</th><th>sheet</th><th>,</th><th>vent</th><th>with</th><th>aluminum</th><th>foil</th><th>.</th><tr>\n",
       "<th>labels:</th><th>action</th><th>0</th><th>0</th><th>0</th><th>0</th><th>0</th><th>0</th><th>0</th><th>0</th><th>0</th></tr>\n",
       "<th>Predicitions:</th><th>action</th><th>0</th><th>0</th><th>0</th><th>0</th><th>0</th><th>0</th><th>0</th><th>0</th><th>0</th></tr>\n",
       "</table>\n",
       "\n"
      ],
      "text/plain": [
       "<IPython.core.display.HTML object>"
      ]
     },
     "metadata": {},
     "output_type": "display_data"
    },
    {
     "data": {
      "text/html": [
       "<table>\n",
       "<tr>\n",
       "<th>Sentence:</th>\n",
       "<th>Bake</th><th>at</th><th>425</th><th>'</th><th>for</th><th>aprx</th><th>.</th><tr>\n",
       "<th>labels:</th><th>action</th><th>0</th><th>0</th><th>0</th><th>0</th><th>0</th><th>0</th></tr>\n",
       "<th>Predicitions:</th><th>action</th><th>0</th><th>0</th><th>0</th><th>0</th><th>0</th><th>0</th></tr>\n",
       "</table>\n",
       "\n"
      ],
      "text/plain": [
       "<IPython.core.display.HTML object>"
      ]
     },
     "metadata": {},
     "output_type": "display_data"
    },
    {
     "data": {
      "text/html": [
       "<table>\n",
       "<tr>\n",
       "<th>Sentence:</th>\n",
       "<th>15-20</th><th>minutes</th><th>or</th><th>until</th><th>heated</th><th>through</th><th>.</th><tr>\n",
       "<th>labels:</th><th>0</th><th>0</th><th>0</th><th>0</th><th>action</th><th>0</th><th>0</th></tr>\n",
       "<th>Predicitions:</th><th>0</th><th>0</th><th>0</th><th>0</th><th>action</th><th>0</th><th>0</th></tr>\n",
       "</table>\n",
       "\n"
      ],
      "text/plain": [
       "<IPython.core.display.HTML object>"
      ]
     },
     "metadata": {},
     "output_type": "display_data"
    },
    {
     "data": {
      "text/html": [
       "<table>\n",
       "<tr>\n",
       "<th>Sentence:</th>\n",
       "<th>Whip</th><th>cream</th><th>in</th><th>small</th><th>bowl</th><th>until</th><th>it</th><th>holds</th><th>stiff</th><th>peaks</th><th>.</th><tr>\n",
       "<th>labels:</th><th>action</th><th>ingredient</th><th>0</th><th>0</th><th>0</th><th>0</th><th>0</th><th>0</th><th>0</th><th>0</th><th>0</th></tr>\n",
       "<th>Predicitions:</th><th>action</th><th>ingredient</th><th>0</th><th>0</th><th>0</th><th>0</th><th>0</th><th>0</th><th>0</th><th>0</th><th>0</th></tr>\n",
       "</table>\n",
       "\n"
      ],
      "text/plain": [
       "<IPython.core.display.HTML object>"
      ]
     },
     "metadata": {},
     "output_type": "display_data"
    },
    {
     "data": {
      "text/html": [
       "<table>\n",
       "<tr>\n",
       "<th>Sentence:</th>\n",
       "<th>Stir</th><th>together</th><th>curd</th><th>and</th><th>cream</th><th>cheese</th><th>in</th><th>separate</th><th>bowl</th><th>until</th><th>smooth</th><th>.</th><tr>\n",
       "<th>labels:</th><th>action</th><th>0</th><th>ingredient</th><th>0</th><th>ingredient</th><th>ingredient</th><th>0</th><th>0</th><th>0</th><th>0</th><th>0</th><th>0</th></tr>\n",
       "<th>Predicitions:</th><th>action</th><th>0</th><th>ingredient</th><th>0</th><th>ingredient</th><th>ingredient</th><th>0</th><th>0</th><th>0</th><th>0</th><th>0</th><th>0</th></tr>\n",
       "</table>\n",
       "\n"
      ],
      "text/plain": [
       "<IPython.core.display.HTML object>"
      ]
     },
     "metadata": {},
     "output_type": "display_data"
    },
    {
     "data": {
      "text/html": [
       "<table>\n",
       "<tr>\n",
       "<th>Sentence:</th>\n",
       "<th>Fold</th><th>whipped</th><th>cream</th><th>into</th><th>curd</th><th>mixture</th><th>.</th><tr>\n",
       "<th>labels:</th><th>action</th><th>action</th><th>ingredient</th><th>0</th><th>ingredient</th><th>0</th><th>0</th></tr>\n",
       "<th>Predicitions:</th><th>0</th><th>action</th><th>ingredient</th><th>0</th><th>0</th><th>0</th><th>0</th></tr>\n",
       "</table>\n",
       "\n"
      ],
      "text/plain": [
       "<IPython.core.display.HTML object>"
      ]
     },
     "metadata": {},
     "output_type": "display_data"
    },
    {
     "data": {
      "text/html": [
       "<table>\n",
       "<tr>\n",
       "<th>Sentence:</th>\n",
       "<th>Pipe</th><th>or</th><th>spoon</th><th>mixture</th><th>into</th><th>shells</th><th>.</th><tr>\n",
       "<th>labels:</th><th>0</th><th>0</th><th>action</th><th>0</th><th>0</th><th>ingredient</th><th>0</th></tr>\n",
       "<th>Predicitions:</th><th>0</th><th>0</th><th>action</th><th>0</th><th>0</th><th>0</th><th>0</th></tr>\n",
       "</table>\n",
       "\n"
      ],
      "text/plain": [
       "<IPython.core.display.HTML object>"
      ]
     },
     "metadata": {},
     "output_type": "display_data"
    },
    {
     "data": {
      "text/html": [
       "<table>\n",
       "<tr>\n",
       "<th>Sentence:</th>\n",
       "<th>Top</th><th>with</th><th>your</th><th>favorite</th><th>garnish</th><th>.</th><tr>\n",
       "<th>labels:</th><th>0</th><th>0</th><th>0</th><th>0</th><th>action</th><th>0</th></tr>\n",
       "<th>Predicitions:</th><th>0</th><th>0</th><th>0</th><th>0</th><th>ingredient</th><th>0</th></tr>\n",
       "</table>\n",
       "\n"
      ],
      "text/plain": [
       "<IPython.core.display.HTML object>"
      ]
     },
     "metadata": {},
     "output_type": "display_data"
    },
    {
     "data": {
      "text/html": [
       "<table>\n",
       "<tr>\n",
       "<th>Sentence:</th>\n",
       "<th>Refrigerate</th><th>until</th><th>serving</th><th>.</th><tr>\n",
       "<th>labels:</th><th>action</th><th>0</th><th>action</th><th>0</th></tr>\n",
       "<th>Predicitions:</th><th>action</th><th>0</th><th>action</th><th>0</th></tr>\n",
       "</table>\n",
       "\n"
      ],
      "text/plain": [
       "<IPython.core.display.HTML object>"
      ]
     },
     "metadata": {},
     "output_type": "display_data"
    },
    {
     "data": {
      "text/html": [
       "<table>\n",
       "<tr>\n",
       "<th>Sentence:</th>\n",
       "<th>Heat</th><th>oven</th><th>to</th><th>400</th><th>degrees</th><th>F</th><th>.</th><tr>\n",
       "<th>labels:</th><th>action</th><th>containers</th><th>0</th><th>0</th><th>0</th><th>0</th><th>0</th></tr>\n",
       "<th>Predicitions:</th><th>0</th><th>containers</th><th>0</th><th>0</th><th>0</th><th>0</th><th>0</th></tr>\n",
       "</table>\n",
       "\n"
      ],
      "text/plain": [
       "<IPython.core.display.HTML object>"
      ]
     },
     "metadata": {},
     "output_type": "display_data"
    },
    {
     "data": {
      "text/html": [
       "<table>\n",
       "<tr>\n",
       "<th>Sentence:</th>\n",
       "<th>Pierce</th><th>potatoes</th><th>with</th><th>fork</th><th>or</th><th>small</th><th>sharp</th><th>knife</th><th>;</th><th>place</th><th>on</th><th>microwaveable</th><th>plate</th><th>.</th><tr>\n",
       "<th>labels:</th><th>0</th><th>ingredient</th><th>0</th><th>0</th><th>0</th><th>0</th><th>0</th><th>0</th><th>0</th><th>action</th><th>0</th><th>0</th><th>0</th><th>0</th></tr>\n",
       "<th>Predicitions:</th><th>0</th><th>ingredient</th><th>0</th><th>0</th><th>0</th><th>0</th><th>0</th><th>0</th><th>0</th><th>action</th><th>0</th><th>0</th><th>0</th><th>0</th></tr>\n",
       "</table>\n",
       "\n"
      ],
      "text/plain": [
       "<IPython.core.display.HTML object>"
      ]
     },
     "metadata": {},
     "output_type": "display_data"
    },
    {
     "data": {
      "text/html": [
       "<table>\n",
       "<tr>\n",
       "<th>Sentence:</th>\n",
       "<th>Microwave</th><th>on</th><th>HIGH</th><th>8</th><th>min.</th><th>,</th><th>turning</th><th>after</th><th>4</th><th>min</th><th>.</th><tr>\n",
       "<th>labels:</th><th>0</th><th>0</th><th>0</th><th>0</th><th>0</th><th>0</th><th>0</th><th>0</th><th>0</th><th>ingredient</th><th>0</th></tr>\n",
       "<th>Predicitions:</th><th>0</th><th>0</th><th>0</th><th>0</th><th>0</th><th>0</th><th>action</th><th>0</th><th>0</th><th>ingredient</th><th>0</th></tr>\n",
       "</table>\n",
       "\n"
      ],
      "text/plain": [
       "<IPython.core.display.HTML object>"
      ]
     },
     "metadata": {},
     "output_type": "display_data"
    },
    {
     "data": {
      "text/html": [
       "<table>\n",
       "<tr>\n",
       "<th>Sentence:</th>\n",
       "<th>Transfer</th><th>from</th><th>plate</th><th>to</th><th>oven</th><th>.</th><tr>\n",
       "<th>labels:</th><th>0</th><th>0</th><th>0</th><th>0</th><th>containers</th><th>0</th></tr>\n",
       "<th>Predicitions:</th><th>0</th><th>0</th><th>0</th><th>0</th><th>containers</th><th>0</th></tr>\n",
       "</table>\n",
       "\n"
      ],
      "text/plain": [
       "<IPython.core.display.HTML object>"
      ]
     },
     "metadata": {},
     "output_type": "display_data"
    },
    {
     "data": {
      "text/html": [
       "<table>\n",
       "<tr>\n",
       "<th>Sentence:</th>\n",
       "<th>Bake</th><th>20</th><th>min</th><th>.</th><tr>\n",
       "<th>labels:</th><th>action</th><th>0</th><th>ingredient</th><th>0</th></tr>\n",
       "<th>Predicitions:</th><th>action</th><th>0</th><th>ingredient</th><th>0</th></tr>\n",
       "</table>\n",
       "\n"
      ],
      "text/plain": [
       "<IPython.core.display.HTML object>"
      ]
     },
     "metadata": {},
     "output_type": "display_data"
    },
    {
     "data": {
      "text/html": [
       "<table>\n",
       "<tr>\n",
       "<th>Sentence:</th>\n",
       "<th>until</th><th>potatoes</th><th>are</th><th>tender</th><th>.</th><tr>\n",
       "<th>labels:</th><th>0</th><th>ingredient</th><th>0</th><th>0</th><th>0</th></tr>\n",
       "<th>Predicitions:</th><th>0</th><th>ingredient</th><th>0</th><th>0</th><th>0</th></tr>\n",
       "</table>\n",
       "\n"
      ],
      "text/plain": [
       "<IPython.core.display.HTML object>"
      ]
     },
     "metadata": {},
     "output_type": "display_data"
    },
    {
     "data": {
      "text/html": [
       "<table>\n",
       "<tr>\n",
       "<th>Sentence:</th>\n",
       "<th>Cut</th><th>slits</th><th>in</th><th>tops</th><th>of</th><th>potatoes</th><th>;</th><th>top</th><th>with</th><th>remaining</th><th>ingredients</th><th>.</th><tr>\n",
       "<th>labels:</th><th>action</th><th>0</th><th>0</th><th>0</th><th>0</th><th>ingredient</th><th>0</th><th>0</th><th>0</th><th>0</th><th>placeholders</th><th>0</th></tr>\n",
       "<th>Predicitions:</th><th>action</th><th>ingredient</th><th>0</th><th>0</th><th>0</th><th>ingredient</th><th>0</th><th>0</th><th>0</th><th>0</th><th>placeholders</th><th>0</th></tr>\n",
       "</table>\n",
       "\n"
      ],
      "text/plain": [
       "<IPython.core.display.HTML object>"
      ]
     },
     "metadata": {},
     "output_type": "display_data"
    },
    {
     "data": {
      "text/html": [
       "<table>\n",
       "<tr>\n",
       "<th>Sentence:</th>\n",
       "<th>In</th><th>medium</th><th>saucepan</th><th>,</th><th>melt</th><th>chocolate</th><th>with</th><th>water</th><th>over</th><th>low</th><th>heat</th><th>.</th><tr>\n",
       "<th>labels:</th><th>0</th><th>0</th><th>0</th><th>0</th><th>action</th><th>ingredient</th><th>0</th><th>ingredient</th><th>0</th><th>0</th><th>action</th><th>0</th></tr>\n",
       "<th>Predicitions:</th><th>0</th><th>0</th><th>0</th><th>0</th><th>action</th><th>ingredient</th><th>0</th><th>ingredient</th><th>0</th><th>0</th><th>action</th><th>0</th></tr>\n",
       "</table>\n",
       "\n"
      ],
      "text/plain": [
       "<IPython.core.display.HTML object>"
      ]
     },
     "metadata": {},
     "output_type": "display_data"
    },
    {
     "data": {
      "text/html": [
       "<table>\n",
       "<tr>\n",
       "<th>Sentence:</th>\n",
       "<th>Continue</th><th>heating</th><th>;</th><th>add</th><th>walnuts</th><th>,</th><th>sugar</th><th>,</th><th>rum</th><th>and</th><th>vanilla</th><th>.</th><tr>\n",
       "<th>labels:</th><th>0</th><th>0</th><th>0</th><th>action</th><th>ingredient</th><th>0</th><th>action</th><th>0</th><th>ingredient</th><th>0</th><th>ingredient</th><th>0</th></tr>\n",
       "<th>Predicitions:</th><th>0</th><th>action</th><th>0</th><th>action</th><th>ingredient</th><th>0</th><th>action</th><th>0</th><th>ingredient</th><th>0</th><th>ingredient</th><th>0</th></tr>\n",
       "</table>\n",
       "\n"
      ],
      "text/plain": [
       "<IPython.core.display.HTML object>"
      ]
     },
     "metadata": {},
     "output_type": "display_data"
    },
    {
     "data": {
      "text/html": [
       "<table>\n",
       "<tr>\n",
       "<th>Sentence:</th>\n",
       "<th>Mix</th><th>well</th><th>.</th><tr>\n",
       "<th>labels:</th><th>action</th><th>0</th><th>0</th></tr>\n",
       "<th>Predicitions:</th><th>action</th><th>0</th><th>0</th></tr>\n",
       "</table>\n",
       "\n"
      ],
      "text/plain": [
       "<IPython.core.display.HTML object>"
      ]
     },
     "metadata": {},
     "output_type": "display_data"
    },
    {
     "data": {
      "text/html": [
       "<table>\n",
       "<tr>\n",
       "<th>Sentence:</th>\n",
       "<th>Remove</th><th>from</th><th>heat</th><th>;</th><th>form</th><th>into</th><th>1</th><th>inch</th><th>balls</th><th>.</th><tr>\n",
       "<th>labels:</th><th>action</th><th>0</th><th>action</th><th>0</th><th>0</th><th>0</th><th>0</th><th>0</th><th>0</th><th>0</th></tr>\n",
       "<th>Predicitions:</th><th>action</th><th>0</th><th>action</th><th>0</th><th>0</th><th>0</th><th>0</th><th>0</th><th>0</th><th>0</th></tr>\n",
       "</table>\n",
       "\n"
      ],
      "text/plain": [
       "<IPython.core.display.HTML object>"
      ]
     },
     "metadata": {},
     "output_type": "display_data"
    },
    {
     "data": {
      "text/html": [
       "<table>\n",
       "<tr>\n",
       "<th>Sentence:</th>\n",
       "<th>Roll</th><th>in</th><th>sugar</th><th>.</th><tr>\n",
       "<th>labels:</th><th>ingredient</th><th>0</th><th>action</th><th>0</th></tr>\n",
       "<th>Predicitions:</th><th>ingredient</th><th>0</th><th>action</th><th>0</th></tr>\n",
       "</table>\n",
       "\n"
      ],
      "text/plain": [
       "<IPython.core.display.HTML object>"
      ]
     },
     "metadata": {},
     "output_type": "display_data"
    },
    {
     "data": {
      "text/html": [
       "<table>\n",
       "<tr>\n",
       "<th>Sentence:</th>\n",
       "<th>Store</th><th>in</th><th>refrigerator</th><th>.</th><tr>\n",
       "<th>labels:</th><th>0</th><th>0</th><th>0</th><th>0</th></tr>\n",
       "<th>Predicitions:</th><th>0</th><th>0</th><th>0</th><th>0</th></tr>\n",
       "</table>\n",
       "\n"
      ],
      "text/plain": [
       "<IPython.core.display.HTML object>"
      ]
     },
     "metadata": {},
     "output_type": "display_data"
    },
    {
     "data": {
      "text/html": [
       "<table>\n",
       "<tr>\n",
       "<th>Sentence:</th>\n",
       "<th>Brown</th><th>the</th><th>meat</th><th>in</th><th>a</th><th>large</th><th>skillet</th><th>or</th><th>dutch</th><th>oven</th><th>.</th><tr>\n",
       "<th>labels:</th><th>action</th><th>0</th><th>ingredient</th><th>0</th><th>0</th><th>0</th><th>0</th><th>0</th><th>0</th><th>containers</th><th>0</th></tr>\n",
       "<th>Predicitions:</th><th>action</th><th>0</th><th>ingredient</th><th>0</th><th>0</th><th>0</th><th>0</th><th>0</th><th>0</th><th>containers</th><th>0</th></tr>\n",
       "</table>\n",
       "\n"
      ],
      "text/plain": [
       "<IPython.core.display.HTML object>"
      ]
     },
     "metadata": {},
     "output_type": "display_data"
    },
    {
     "data": {
      "text/html": [
       "<table>\n",
       "<tr>\n",
       "<th>Sentence:</th>\n",
       "<th>Add</th><th>the</th><th>onions</th><th>and</th><th>cook</th><th>until</th><th>transparent</th><th>.</th><tr>\n",
       "<th>labels:</th><th>action</th><th>0</th><th>ingredient</th><th>0</th><th>action</th><th>0</th><th>0</th><th>0</th></tr>\n",
       "<th>Predicitions:</th><th>action</th><th>0</th><th>ingredient</th><th>0</th><th>action</th><th>0</th><th>0</th><th>0</th></tr>\n",
       "</table>\n",
       "\n"
      ],
      "text/plain": [
       "<IPython.core.display.HTML object>"
      ]
     },
     "metadata": {},
     "output_type": "display_data"
    },
    {
     "data": {
      "text/html": [
       "<table>\n",
       "<tr>\n",
       "<th>Sentence:</th>\n",
       "<th>Add</th><th>the</th><th>bell_pepper</th><th>,</th><th>and</th><th>saute</th><th>until</th><th>tender</th><th>.</th><tr>\n",
       "<th>labels:</th><th>action</th><th>0</th><th>ingredient</th><th>0</th><th>0</th><th>0</th><th>0</th><th>0</th><th>0</th></tr>\n",
       "<th>Predicitions:</th><th>action</th><th>0</th><th>ingredient</th><th>0</th><th>0</th><th>0</th><th>0</th><th>0</th><th>0</th></tr>\n",
       "</table>\n",
       "\n"
      ],
      "text/plain": [
       "<IPython.core.display.HTML object>"
      ]
     },
     "metadata": {},
     "output_type": "display_data"
    },
    {
     "data": {
      "text/html": [
       "<table>\n",
       "<tr>\n",
       "<th>Sentence:</th>\n",
       "<th>Add</th><th>the</th><th>rice</th><th>,</th><th>olives</th><th>,</th><th>and</th><th>raisins</th><th>and</th><th>heat</th><th>through</th><th>.</th><tr>\n",
       "<th>labels:</th><th>action</th><th>0</th><th>ingredient</th><th>0</th><th>ingredient</th><th>0</th><th>0</th><th>ingredient</th><th>0</th><th>action</th><th>0</th><th>0</th></tr>\n",
       "<th>Predicitions:</th><th>action</th><th>0</th><th>ingredient</th><th>0</th><th>ingredient</th><th>0</th><th>0</th><th>ingredient</th><th>0</th><th>action</th><th>0</th><th>0</th></tr>\n",
       "</table>\n",
       "\n"
      ],
      "text/plain": [
       "<IPython.core.display.HTML object>"
      ]
     },
     "metadata": {},
     "output_type": "display_data"
    },
    {
     "data": {
      "text/html": [
       "<table>\n",
       "<tr>\n",
       "<th>Sentence:</th>\n",
       "<th>(</th><th>Raisins</th><th>should</th><th>be</th><th>plump</th><th>.</th><tr>\n",
       "<th>labels:</th><th>0</th><th>0</th><th>0</th><th>0</th><th>0</th><th>0</th></tr>\n",
       "<th>Predicitions:</th><th>0</th><th>0</th><th>0</th><th>0</th><th>0</th><th>0</th></tr>\n",
       "</table>\n",
       "\n"
      ],
      "text/plain": [
       "<IPython.core.display.HTML object>"
      ]
     },
     "metadata": {},
     "output_type": "display_data"
    },
    {
     "data": {
      "text/html": [
       "<table>\n",
       "<tr>\n",
       "<th>Sentence:</th>\n",
       "<th>)</th><th>.</th><tr>\n",
       "<th>labels:</th><th>0</th><th>0</th></tr>\n",
       "<th>Predicitions:</th><th>0</th><th>0</th></tr>\n",
       "</table>\n",
       "\n"
      ],
      "text/plain": [
       "<IPython.core.display.HTML object>"
      ]
     },
     "metadata": {},
     "output_type": "display_data"
    },
    {
     "data": {
      "text/html": [
       "<table>\n",
       "<tr>\n",
       "<th>Sentence:</th>\n",
       "<th>Season</th><th>with</th><th>salt</th><th>and</th><th>pepper</th><th>to</th><th>taste</th><th>.</th><tr>\n",
       "<th>labels:</th><th>action</th><th>0</th><th>action</th><th>0</th><th>ingredient</th><th>0</th><th>action</th><th>0</th></tr>\n",
       "<th>Predicitions:</th><th>action</th><th>0</th><th>action</th><th>0</th><th>ingredient</th><th>0</th><th>action</th><th>0</th></tr>\n",
       "</table>\n",
       "\n"
      ],
      "text/plain": [
       "<IPython.core.display.HTML object>"
      ]
     },
     "metadata": {},
     "output_type": "display_data"
    },
    {
     "data": {
      "text/html": [
       "<table>\n",
       "<tr>\n",
       "<th>Sentence:</th>\n",
       "<th>Place</th><th>the</th><th>cut</th><th>fruits</th><th>in</th><th>a</th><th>bowl</th><th>.</th><tr>\n",
       "<th>labels:</th><th>action</th><th>0</th><th>action</th><th>ingredient</th><th>0</th><th>0</th><th>0</th><th>0</th></tr>\n",
       "<th>Predicitions:</th><th>action</th><th>0</th><th>action</th><th>ingredient</th><th>0</th><th>0</th><th>0</th><th>0</th></tr>\n",
       "</table>\n",
       "\n"
      ],
      "text/plain": [
       "<IPython.core.display.HTML object>"
      ]
     },
     "metadata": {},
     "output_type": "display_data"
    },
    {
     "data": {
      "text/html": [
       "<table>\n",
       "<tr>\n",
       "<th>Sentence:</th>\n",
       "<th>Add</th><th>salt</th><th>,</th><th>pepper</th><th>,</th><th>fresh</th><th>cream</th><th>and</th><th>sugar</th><th>.</th><tr>\n",
       "<th>labels:</th><th>action</th><th>action</th><th>0</th><th>ingredient</th><th>0</th><th>0</th><th>ingredient</th><th>0</th><th>action</th><th>0</th></tr>\n",
       "<th>Predicitions:</th><th>action</th><th>action</th><th>0</th><th>ingredient</th><th>0</th><th>0</th><th>ingredient</th><th>0</th><th>action</th><th>0</th></tr>\n",
       "</table>\n",
       "\n"
      ],
      "text/plain": [
       "<IPython.core.display.HTML object>"
      ]
     },
     "metadata": {},
     "output_type": "display_data"
    },
    {
     "data": {
      "text/html": [
       "<table>\n",
       "<tr>\n",
       "<th>Sentence:</th>\n",
       "<th>Mix</th><th>well</th><th>.</th><tr>\n",
       "<th>labels:</th><th>action</th><th>0</th><th>0</th></tr>\n",
       "<th>Predicitions:</th><th>action</th><th>0</th><th>0</th></tr>\n",
       "</table>\n",
       "\n"
      ],
      "text/plain": [
       "<IPython.core.display.HTML object>"
      ]
     },
     "metadata": {},
     "output_type": "display_data"
    },
    {
     "data": {
      "text/html": [
       "<table>\n",
       "<tr>\n",
       "<th>Sentence:</th>\n",
       "<th>Garnish</th><th>with</th><th>mint</th><th>leaves</th><th>.</th><tr>\n",
       "<th>labels:</th><th>action</th><th>0</th><th>ingredient</th><th>ingredient</th><th>0</th></tr>\n",
       "<th>Predicitions:</th><th>action</th><th>0</th><th>ingredient</th><th>ingredient</th><th>0</th></tr>\n",
       "</table>\n",
       "\n"
      ],
      "text/plain": [
       "<IPython.core.display.HTML object>"
      ]
     },
     "metadata": {},
     "output_type": "display_data"
    },
    {
     "data": {
      "text/html": [
       "<table>\n",
       "<tr>\n",
       "<th>Sentence:</th>\n",
       "<th>Serve</th><th>chilled</th><th>.</th><tr>\n",
       "<th>labels:</th><th>action</th><th>action</th><th>0</th></tr>\n",
       "<th>Predicitions:</th><th>action</th><th>action</th><th>0</th></tr>\n",
       "</table>\n",
       "\n"
      ],
      "text/plain": [
       "<IPython.core.display.HTML object>"
      ]
     },
     "metadata": {},
     "output_type": "display_data"
    },
    {
     "data": {
      "text/html": [
       "<table>\n",
       "<tr>\n",
       "<th>Sentence:</th>\n",
       "<th>Simmer</th><th>everything</th><th>except</th><th>the</th><th>mango</th><th>and</th><th>oil</th><th>,</th><th>until</th><th>thick</th><th>.</th><tr>\n",
       "<th>labels:</th><th>action</th><th>placeholders</th><th>0</th><th>0</th><th>ingredient</th><th>0</th><th>ingredient</th><th>0</th><th>0</th><th>0</th><th>0</th></tr>\n",
       "<th>Predicitions:</th><th>action</th><th>placeholders</th><th>0</th><th>0</th><th>ingredient</th><th>0</th><th>ingredient</th><th>0</th><th>0</th><th>0</th><th>0</th></tr>\n",
       "</table>\n",
       "\n"
      ],
      "text/plain": [
       "<IPython.core.display.HTML object>"
      ]
     },
     "metadata": {},
     "output_type": "display_data"
    },
    {
     "data": {
      "text/html": [
       "<table>\n",
       "<tr>\n",
       "<th>Sentence:</th>\n",
       "<th>Pour</th><th>over</th><th>the</th><th>mangos</th><th>.</th><tr>\n",
       "<th>labels:</th><th>action</th><th>0</th><th>0</th><th>ingredient</th><th>0</th></tr>\n",
       "<th>Predicitions:</th><th>action</th><th>0</th><th>0</th><th>ingredient</th><th>0</th></tr>\n",
       "</table>\n",
       "\n"
      ],
      "text/plain": [
       "<IPython.core.display.HTML object>"
      ]
     },
     "metadata": {},
     "output_type": "display_data"
    },
    {
     "data": {
      "text/html": [
       "<table>\n",
       "<tr>\n",
       "<th>Sentence:</th>\n",
       "<th>Add</th><th>the</th><th>oil</th><th>and</th><th>mix</th><th>well</th><th>.</th><tr>\n",
       "<th>labels:</th><th>action</th><th>0</th><th>ingredient</th><th>0</th><th>action</th><th>0</th><th>0</th></tr>\n",
       "<th>Predicitions:</th><th>action</th><th>0</th><th>ingredient</th><th>0</th><th>action</th><th>0</th><th>0</th></tr>\n",
       "</table>\n",
       "\n"
      ],
      "text/plain": [
       "<IPython.core.display.HTML object>"
      ]
     },
     "metadata": {},
     "output_type": "display_data"
    },
    {
     "data": {
      "text/html": [
       "<table>\n",
       "<tr>\n",
       "<th>Sentence:</th>\n",
       "<th>Cool</th><th>and</th><th>refrigerate</th><th>at</th><th>least</th><th>12</th><th>hours</th><th>.</th><tr>\n",
       "<th>labels:</th><th>action</th><th>0</th><th>action</th><th>0</th><th>0</th><th>0</th><th>0</th><th>0</th></tr>\n",
       "<th>Predicitions:</th><th>action</th><th>0</th><th>action</th><th>0</th><th>0</th><th>0</th><th>0</th><th>0</th></tr>\n",
       "</table>\n",
       "\n"
      ],
      "text/plain": [
       "<IPython.core.display.HTML object>"
      ]
     },
     "metadata": {},
     "output_type": "display_data"
    },
    {
     "data": {
      "text/html": [
       "<table>\n",
       "<tr>\n",
       "<th>Sentence:</th>\n",
       "<th>In</th><th>a</th><th>blender</th><th>put</th><th>the</th><th>seltzer</th><th>.</th><tr>\n",
       "<th>labels:</th><th>0</th><th>0</th><th>0</th><th>action</th><th>0</th><th>ingredient</th><th>0</th></tr>\n",
       "<th>Predicitions:</th><th>0</th><th>0</th><th>0</th><th>action</th><th>0</th><th>0</th><th>0</th></tr>\n",
       "</table>\n",
       "\n"
      ],
      "text/plain": [
       "<IPython.core.display.HTML object>"
      ]
     },
     "metadata": {},
     "output_type": "display_data"
    },
    {
     "data": {
      "text/html": [
       "<table>\n",
       "<tr>\n",
       "<th>Sentence:</th>\n",
       "<th>Squeeze</th><th>the</th><th>juice</th><th>from</th><th>half</th><th>a</th><th>lemon</th><th>on</th><th>top</th><th>of</th><th>the</th><th>seltzer</th><th>.</th><tr>\n",
       "<th>labels:</th><th>action</th><th>0</th><th>ingredient</th><th>0</th><th>0</th><th>0</th><th>ingredient</th><th>0</th><th>0</th><th>0</th><th>0</th><th>ingredient</th><th>0</th></tr>\n",
       "<th>Predicitions:</th><th>action</th><th>0</th><th>ingredient</th><th>0</th><th>0</th><th>0</th><th>ingredient</th><th>0</th><th>0</th><th>0</th><th>0</th><th>0</th><th>0</th></tr>\n",
       "</table>\n",
       "\n"
      ],
      "text/plain": [
       "<IPython.core.display.HTML object>"
      ]
     },
     "metadata": {},
     "output_type": "display_data"
    },
    {
     "data": {
      "text/html": [
       "<table>\n",
       "<tr>\n",
       "<th>Sentence:</th>\n",
       "<th>Add</th><th>the</th><th>splenda</th><th>and</th><th>then</th><th>the</th><th>watermelon</th><th>.</th><tr>\n",
       "<th>labels:</th><th>action</th><th>0</th><th>ingredient</th><th>0</th><th>0</th><th>0</th><th>ingredient</th><th>0</th></tr>\n",
       "<th>Predicitions:</th><th>action</th><th>0</th><th>ingredient</th><th>0</th><th>0</th><th>0</th><th>ingredient</th><th>0</th></tr>\n",
       "</table>\n",
       "\n"
      ],
      "text/plain": [
       "<IPython.core.display.HTML object>"
      ]
     },
     "metadata": {},
     "output_type": "display_data"
    },
    {
     "data": {
      "text/html": [
       "<table>\n",
       "<tr>\n",
       "<th>Sentence:</th>\n",
       "<th>Blend</th><th>until</th><th>slushy</th><th>.</th><tr>\n",
       "<th>labels:</th><th>action</th><th>0</th><th>0</th><th>0</th></tr>\n",
       "<th>Predicitions:</th><th>action</th><th>0</th><th>0</th><th>0</th></tr>\n",
       "</table>\n",
       "\n"
      ],
      "text/plain": [
       "<IPython.core.display.HTML object>"
      ]
     },
     "metadata": {},
     "output_type": "display_data"
    },
    {
     "data": {
      "text/html": [
       "<table>\n",
       "<tr>\n",
       "<th>Sentence:</th>\n",
       "<th>Depending</th><th>on</th><th>your</th><th>blender</th><th>,</th><th>you</th><th>may</th><th>need</th><th>a</th><th>tad</th><th>more</th><th>seltzer</th><th>.</th><tr>\n",
       "<th>labels:</th><th>0</th><th>0</th><th>0</th><th>0</th><th>0</th><th>0</th><th>0</th><th>0</th><th>0</th><th>0</th><th>0</th><th>ingredient</th><th>0</th></tr>\n",
       "<th>Predicitions:</th><th>action</th><th>0</th><th>0</th><th>0</th><th>0</th><th>0</th><th>0</th><th>0</th><th>0</th><th>0</th><th>0</th><th>0</th><th>0</th></tr>\n",
       "</table>\n",
       "\n"
      ],
      "text/plain": [
       "<IPython.core.display.HTML object>"
      ]
     },
     "metadata": {},
     "output_type": "display_data"
    },
    {
     "data": {
      "text/html": [
       "<table>\n",
       "<tr>\n",
       "<th>Sentence:</th>\n",
       "<th>Mix</th><th>the</th><th>mashed</th><th>potatoes</th><th>together</th><th>with</th><th>the</th><th>flour</th><th>.</th><tr>\n",
       "<th>labels:</th><th>action</th><th>0</th><th>0</th><th>0</th><th>0</th><th>0</th><th>0</th><th>action</th><th>0</th></tr>\n",
       "<th>Predicitions:</th><th>action</th><th>0</th><th>0</th><th>ingredient</th><th>0</th><th>0</th><th>0</th><th>action</th><th>0</th></tr>\n",
       "</table>\n",
       "\n"
      ],
      "text/plain": [
       "<IPython.core.display.HTML object>"
      ]
     },
     "metadata": {},
     "output_type": "display_data"
    },
    {
     "data": {
      "text/html": [
       "<table>\n",
       "<tr>\n",
       "<th>Sentence:</th>\n",
       "<th>DO</th><th>N'T</th><th>knead</th><th>,</th><th>because</th><th>the</th><th>dumplings</th><th>will</th><th>``</th><th>sink</th><th>''</th><th>.</th><tr>\n",
       "<th>labels:</th><th>0</th><th>0</th><th>action</th><th>0</th><th>0</th><th>0</th><th>ingredient</th><th>0</th><th>0</th><th>0</th><th>0</th><th>0</th></tr>\n",
       "<th>Predicitions:</th><th>0</th><th>0</th><th>action</th><th>0</th><th>0</th><th>0</th><th>ingredient</th><th>0</th><th>0</th><th>0</th><th>0</th><th>0</th></tr>\n",
       "</table>\n",
       "\n"
      ],
      "text/plain": [
       "<IPython.core.display.HTML object>"
      ]
     },
     "metadata": {},
     "output_type": "display_data"
    },
    {
     "data": {
      "text/html": [
       "<table>\n",
       "<tr>\n",
       "<th>Sentence:</th>\n",
       "<th>Shape</th><th>the</th><th>dough</th><th>into</th><th>small</th><th>balls</th><th>.</th><tr>\n",
       "<th>labels:</th><th>0</th><th>0</th><th>ingredient</th><th>0</th><th>0</th><th>0</th><th>0</th></tr>\n",
       "<th>Predicitions:</th><th>0</th><th>0</th><th>ingredient</th><th>0</th><th>0</th><th>0</th><th>0</th></tr>\n",
       "</table>\n",
       "\n"
      ],
      "text/plain": [
       "<IPython.core.display.HTML object>"
      ]
     },
     "metadata": {},
     "output_type": "display_data"
    },
    {
     "data": {
      "text/html": [
       "<table>\n",
       "<tr>\n",
       "<th>Sentence:</th>\n",
       "<th>Place</th><th>in</th><th>a</th><th>kettle</th><th>of</th><th>boiling</th><th>salted_water</th><th>.</th><tr>\n",
       "<th>labels:</th><th>action</th><th>0</th><th>0</th><th>containers</th><th>0</th><th>action</th><th>0</th><th>0</th></tr>\n",
       "<th>Predicitions:</th><th>action</th><th>0</th><th>0</th><th>0</th><th>0</th><th>action</th><th>ingredient</th><th>0</th></tr>\n",
       "</table>\n",
       "\n"
      ],
      "text/plain": [
       "<IPython.core.display.HTML object>"
      ]
     },
     "metadata": {},
     "output_type": "display_data"
    },
    {
     "data": {
      "text/html": [
       "<table>\n",
       "<tr>\n",
       "<th>Sentence:</th>\n",
       "<th>Once</th><th>they</th><th>rise</th><th>to</th><th>the</th><th>surface</th><th>,</th><th>let</th><th>them</th><th>cook</th><th>for</th><th>10</th><th>minutes</th><th>.</th><tr>\n",
       "<th>labels:</th><th>0</th><th>0</th><th>0</th><th>0</th><th>0</th><th>0</th><th>0</th><th>0</th><th>0</th><th>action</th><th>0</th><th>0</th><th>0</th><th>0</th></tr>\n",
       "<th>Predicitions:</th><th>0</th><th>0</th><th>0</th><th>0</th><th>0</th><th>action</th><th>0</th><th>0</th><th>0</th><th>action</th><th>0</th><th>0</th><th>0</th><th>0</th></tr>\n",
       "</table>\n",
       "\n"
      ],
      "text/plain": [
       "<IPython.core.display.HTML object>"
      ]
     },
     "metadata": {},
     "output_type": "display_data"
    },
    {
     "data": {
      "text/html": [
       "<table>\n",
       "<tr>\n",
       "<th>Sentence:</th>\n",
       "<th>Drain</th><th>and</th><th>sprinkle</th><th>with</th><th>fresh_parsley</th><th>.</th><tr>\n",
       "<th>labels:</th><th>action</th><th>0</th><th>action</th><th>0</th><th>ingredient</th><th>0</th></tr>\n",
       "<th>Predicitions:</th><th>action</th><th>0</th><th>action</th><th>0</th><th>ingredient</th><th>0</th></tr>\n",
       "</table>\n",
       "\n"
      ],
      "text/plain": [
       "<IPython.core.display.HTML object>"
      ]
     },
     "metadata": {},
     "output_type": "display_data"
    },
    {
     "data": {
      "text/html": [
       "<table>\n",
       "<tr>\n",
       "<th>Sentence:</th>\n",
       "<th>Serve</th><th>as</th><th>side</th><th>dish</th><th>.</th><tr>\n",
       "<th>labels:</th><th>action</th><th>0</th><th>0</th><th>0</th><th>0</th></tr>\n",
       "<th>Predicitions:</th><th>action</th><th>0</th><th>0</th><th>0</th><th>0</th></tr>\n",
       "</table>\n",
       "\n"
      ],
      "text/plain": [
       "<IPython.core.display.HTML object>"
      ]
     },
     "metadata": {},
     "output_type": "display_data"
    },
    {
     "data": {
      "text/html": [
       "<table>\n",
       "<tr>\n",
       "<th>Sentence:</th>\n",
       "<th>Use</th><th>3/4</th><th>cup</th><th>boiling</th><th>water</th><th>to</th><th>dissolve</th><th>Jello</th><th>-</th><th>chill</th><th>before</th><th>adding</th><th>milk</th><tr>\n",
       "<th>labels:</th><th>0</th><th>0</th><th>0</th><th>action</th><th>ingredient</th><th>0</th><th>0</th><th>ingredient</th><th>0</th><th>action</th><th>0</th><th>action</th><th>ingredient</th></tr>\n",
       "<th>Predicitions:</th><th>0</th><th>0</th><th>0</th><th>action</th><th>ingredient</th><th>0</th><th>0</th><th>ingredient</th><th>0</th><th>0</th><th>0</th><th>action</th><th>ingredient</th></tr>\n",
       "</table>\n",
       "\n"
      ],
      "text/plain": [
       "<IPython.core.display.HTML object>"
      ]
     },
     "metadata": {},
     "output_type": "display_data"
    },
    {
     "data": {
      "text/html": [
       "<table>\n",
       "<tr>\n",
       "<th>Sentence:</th>\n",
       "<th>Add</th><th>the</th><th>milk</th><th>and</th><th>fruit</th><th>.</th><tr>\n",
       "<th>labels:</th><th>action</th><th>0</th><th>ingredient</th><th>0</th><th>ingredient</th><th>0</th></tr>\n",
       "<th>Predicitions:</th><th>action</th><th>0</th><th>ingredient</th><th>0</th><th>ingredient</th><th>0</th></tr>\n",
       "</table>\n",
       "\n"
      ],
      "text/plain": [
       "<IPython.core.display.HTML object>"
      ]
     },
     "metadata": {},
     "output_type": "display_data"
    },
    {
     "data": {
      "text/html": [
       "<table>\n",
       "<tr>\n",
       "<th>Sentence:</th>\n",
       "<th>Stir</th><th>in</th><th>other</th><th>ingredients</th><th>.</th><tr>\n",
       "<th>labels:</th><th>action</th><th>0</th><th>ingredient</th><th>placeholders</th><th>0</th></tr>\n",
       "<th>Predicitions:</th><th>action</th><th>0</th><th>ingredient</th><th>placeholders</th><th>0</th></tr>\n",
       "</table>\n",
       "\n"
      ],
      "text/plain": [
       "<IPython.core.display.HTML object>"
      ]
     },
     "metadata": {},
     "output_type": "display_data"
    },
    {
     "data": {
      "text/html": [
       "<table>\n",
       "<tr>\n",
       "<th>Sentence:</th>\n",
       "<th>Pour</th><th>in</th><th>to</th><th>shallow</th><th>dish</th><th>.</th><tr>\n",
       "<th>labels:</th><th>action</th><th>0</th><th>0</th><th>0</th><th>0</th><th>0</th></tr>\n",
       "<th>Predicitions:</th><th>action</th><th>0</th><th>0</th><th>0</th><th>action</th><th>0</th></tr>\n",
       "</table>\n",
       "\n"
      ],
      "text/plain": [
       "<IPython.core.display.HTML object>"
      ]
     },
     "metadata": {},
     "output_type": "display_data"
    },
    {
     "data": {
      "text/html": [
       "<table>\n",
       "<tr>\n",
       "<th>Sentence:</th>\n",
       "<th>Cover</th><th>and</th><th>put</th><th>in</th><th>the</th><th>frig</th><th>.</th><tr>\n",
       "<th>labels:</th><th>action</th><th>0</th><th>action</th><th>0</th><th>0</th><th>0</th><th>0</th></tr>\n",
       "<th>Predicitions:</th><th>action</th><th>0</th><th>action</th><th>0</th><th>0</th><th>0</th><th>0</th></tr>\n",
       "</table>\n",
       "\n"
      ],
      "text/plain": [
       "<IPython.core.display.HTML object>"
      ]
     },
     "metadata": {},
     "output_type": "display_data"
    },
    {
     "data": {
      "text/html": [
       "<table>\n",
       "<tr>\n",
       "<th>Sentence:</th>\n",
       "<th>to</th><th>set</th><th>.</th><tr>\n",
       "<th>labels:</th><th>0</th><th>action</th><th>0</th></tr>\n",
       "<th>Predicitions:</th><th>0</th><th>action</th><th>0</th></tr>\n",
       "</table>\n",
       "\n"
      ],
      "text/plain": [
       "<IPython.core.display.HTML object>"
      ]
     },
     "metadata": {},
     "output_type": "display_data"
    },
    {
     "data": {
      "text/html": [
       "<table>\n",
       "<tr>\n",
       "<th>Sentence:</th>\n",
       "<th>Preheat</th><th>oven</th><th>to</th><th>400</th><th>degrees</th><th>.</th><tr>\n",
       "<th>labels:</th><th>0</th><th>containers</th><th>0</th><th>0</th><th>0</th><th>0</th></tr>\n",
       "<th>Predicitions:</th><th>0</th><th>containers</th><th>0</th><th>0</th><th>0</th><th>0</th></tr>\n",
       "</table>\n",
       "\n"
      ],
      "text/plain": [
       "<IPython.core.display.HTML object>"
      ]
     },
     "metadata": {},
     "output_type": "display_data"
    },
    {
     "data": {
      "text/html": [
       "<table>\n",
       "<tr>\n",
       "<th>Sentence:</th>\n",
       "<th>Combine</th><th>first</th><th>5</th><th>ingredients</th><th>in</th><th>large</th><th>bowl</th><th>.</th><tr>\n",
       "<th>labels:</th><th>action</th><th>0</th><th>0</th><th>placeholders</th><th>0</th><th>0</th><th>0</th><th>0</th></tr>\n",
       "<th>Predicitions:</th><th>action</th><th>0</th><th>0</th><th>placeholders</th><th>0</th><th>0</th><th>0</th><th>0</th></tr>\n",
       "</table>\n",
       "\n"
      ],
      "text/plain": [
       "<IPython.core.display.HTML object>"
      ]
     },
     "metadata": {},
     "output_type": "display_data"
    },
    {
     "data": {
      "text/html": [
       "<table>\n",
       "<tr>\n",
       "<th>Sentence:</th>\n",
       "<th>Stir</th><th>in</th><th>rhubarb</th><th>and</th><th>nuts</th><th>.</th><tr>\n",
       "<th>labels:</th><th>action</th><th>0</th><th>ingredient</th><th>0</th><th>ingredient</th><th>0</th></tr>\n",
       "<th>Predicitions:</th><th>action</th><th>0</th><th>ingredient</th><th>0</th><th>ingredient</th><th>0</th></tr>\n",
       "</table>\n",
       "\n"
      ],
      "text/plain": [
       "<IPython.core.display.HTML object>"
      ]
     },
     "metadata": {},
     "output_type": "display_data"
    },
    {
     "data": {
      "text/html": [
       "<table>\n",
       "<tr>\n",
       "<th>Sentence:</th>\n",
       "<th>Pour</th><th>in</th><th>lined</th><th>muffin</th><th>tins</th><th>.</th><tr>\n",
       "<th>labels:</th><th>action</th><th>0</th><th>0</th><th>ingredient</th><th>0</th><th>0</th></tr>\n",
       "<th>Predicitions:</th><th>action</th><th>0</th><th>0</th><th>ingredient</th><th>0</th><th>0</th></tr>\n",
       "</table>\n",
       "\n"
      ],
      "text/plain": [
       "<IPython.core.display.HTML object>"
      ]
     },
     "metadata": {},
     "output_type": "display_data"
    },
    {
     "data": {
      "text/html": [
       "<table>\n",
       "<tr>\n",
       "<th>Sentence:</th>\n",
       "<th>In</th><th>small</th><th>bowl</th><th>,</th><th>combine</th><th>topping</th><th>ingredients</th><th>.</th><tr>\n",
       "<th>labels:</th><th>0</th><th>0</th><th>0</th><th>0</th><th>action</th><th>0</th><th>placeholders</th><th>0</th></tr>\n",
       "<th>Predicitions:</th><th>0</th><th>0</th><th>0</th><th>0</th><th>action</th><th>0</th><th>placeholders</th><th>0</th></tr>\n",
       "</table>\n",
       "\n"
      ],
      "text/plain": [
       "<IPython.core.display.HTML object>"
      ]
     },
     "metadata": {},
     "output_type": "display_data"
    },
    {
     "data": {
      "text/html": [
       "<table>\n",
       "<tr>\n",
       "<th>Sentence:</th>\n",
       "<th>Sprinkle</th><th>on</th><th>muffins</th><th>.</th><tr>\n",
       "<th>labels:</th><th>action</th><th>0</th><th>ingredient</th><th>0</th></tr>\n",
       "<th>Predicitions:</th><th>action</th><th>0</th><th>ingredient</th><th>0</th></tr>\n",
       "</table>\n",
       "\n"
      ],
      "text/plain": [
       "<IPython.core.display.HTML object>"
      ]
     },
     "metadata": {},
     "output_type": "display_data"
    },
    {
     "data": {
      "text/html": [
       "<table>\n",
       "<tr>\n",
       "<th>Sentence:</th>\n",
       "<th>Bake</th><th>for</th><th>20</th><th>minutes</th><th>.</th><tr>\n",
       "<th>labels:</th><th>action</th><th>0</th><th>0</th><th>0</th><th>0</th></tr>\n",
       "<th>Predicitions:</th><th>action</th><th>0</th><th>0</th><th>0</th><th>0</th></tr>\n",
       "</table>\n",
       "\n"
      ],
      "text/plain": [
       "<IPython.core.display.HTML object>"
      ]
     },
     "metadata": {},
     "output_type": "display_data"
    },
    {
     "data": {
      "text/html": [
       "<table>\n",
       "<tr>\n",
       "<th>Sentence:</th>\n",
       "<th>Heat</th><th>canola_oil</th><th>,</th><th>lightly</th><th>flour</th><th>chicken</th><th>and</th><th>fry</th><th>in</th><th>batches</th><th>til</th><th>golden</th><th>brown</th><th>.</th><tr>\n",
       "<th>labels:</th><th>action</th><th>ingredient</th><th>0</th><th>0</th><th>action</th><th>ingredient</th><th>0</th><th>action</th><th>0</th><th>0</th><th>0</th><th>0</th><th>action</th><th>0</th></tr>\n",
       "<th>Predicitions:</th><th>action</th><th>ingredient</th><th>0</th><th>0</th><th>action</th><th>ingredient</th><th>0</th><th>action</th><th>0</th><th>ingredient</th><th>0</th><th>0</th><th>action</th><th>0</th></tr>\n",
       "</table>\n",
       "\n"
      ],
      "text/plain": [
       "<IPython.core.display.HTML object>"
      ]
     },
     "metadata": {},
     "output_type": "display_data"
    },
    {
     "data": {
      "text/html": [
       "<table>\n",
       "<tr>\n",
       "<th>Sentence:</th>\n",
       "<th>Puree</th><th>cilantro</th><th>,</th><th>jalapeno</th><th>,</th><th>garlic</th><th>,</th><th>fish</th><th>sauce</th><th>and</th><th>lime</th><th>juice</th><th>.</th><tr>\n",
       "<th>labels:</th><th>0</th><th>ingredient</th><th>0</th><th>0</th><th>0</th><th>ingredient</th><th>0</th><th>ingredient</th><th>ingredient</th><th>0</th><th>ingredient</th><th>ingredient</th><th>0</th></tr>\n",
       "<th>Predicitions:</th><th>0</th><th>ingredient</th><th>0</th><th>0</th><th>0</th><th>ingredient</th><th>0</th><th>0</th><th>ingredient</th><th>0</th><th>ingredient</th><th>ingredient</th><th>0</th></tr>\n",
       "</table>\n",
       "\n"
      ],
      "text/plain": [
       "<IPython.core.display.HTML object>"
      ]
     },
     "metadata": {},
     "output_type": "display_data"
    },
    {
     "data": {
      "text/html": [
       "<table>\n",
       "<tr>\n",
       "<th>Sentence:</th>\n",
       "<th>Heat</th><th>butter</th><th>.</th><tr>\n",
       "<th>labels:</th><th>action</th><th>ingredient</th><th>0</th></tr>\n",
       "<th>Predicitions:</th><th>action</th><th>ingredient</th><th>0</th></tr>\n",
       "</table>\n",
       "\n"
      ],
      "text/plain": [
       "<IPython.core.display.HTML object>"
      ]
     },
     "metadata": {},
     "output_type": "display_data"
    },
    {
     "data": {
      "text/html": [
       "<table>\n",
       "<tr>\n",
       "<th>Sentence:</th>\n",
       "<th>Make</th><th>sure</th><th>not</th><th>to</th><th>burn</th><th>the</th><th>butter</th><th>.</th><tr>\n",
       "<th>labels:</th><th>0</th><th>0</th><th>0</th><th>0</th><th>action</th><th>0</th><th>ingredient</th><th>0</th></tr>\n",
       "<th>Predicitions:</th><th>0</th><th>0</th><th>0</th><th>0</th><th>0</th><th>0</th><th>ingredient</th><th>0</th></tr>\n",
       "</table>\n",
       "\n"
      ],
      "text/plain": [
       "<IPython.core.display.HTML object>"
      ]
     },
     "metadata": {},
     "output_type": "display_data"
    },
    {
     "data": {
      "text/html": [
       "<table>\n",
       "<tr>\n",
       "<th>Sentence:</th>\n",
       "<th>Mix</th><th>butter</th><th>and</th><th>puree</th><th>together</th><th>.</th><tr>\n",
       "<th>labels:</th><th>action</th><th>ingredient</th><th>0</th><th>0</th><th>0</th><th>0</th></tr>\n",
       "<th>Predicitions:</th><th>action</th><th>ingredient</th><th>0</th><th>0</th><th>0</th><th>0</th></tr>\n",
       "</table>\n",
       "\n"
      ],
      "text/plain": [
       "<IPython.core.display.HTML object>"
      ]
     },
     "metadata": {},
     "output_type": "display_data"
    },
    {
     "data": {
      "text/html": [
       "<table>\n",
       "<tr>\n",
       "<th>Sentence:</th>\n",
       "<th>Toss</th><th>chicken_wings</th><th>in</th><th>mixture</th><th>.</th><tr>\n",
       "<th>labels:</th><th>0</th><th>ingredient</th><th>0</th><th>0</th><th>0</th></tr>\n",
       "<th>Predicitions:</th><th>0</th><th>ingredient</th><th>0</th><th>0</th><th>0</th></tr>\n",
       "</table>\n",
       "\n"
      ],
      "text/plain": [
       "<IPython.core.display.HTML object>"
      ]
     },
     "metadata": {},
     "output_type": "display_data"
    },
    {
     "data": {
      "text/html": [
       "<table>\n",
       "<tr>\n",
       "<th>Sentence:</th>\n",
       "<th>Pour</th><th>onto</th><th>platter</th><th>and</th><th>garnish</th><th>with</th><th>leftover</th><th>puree</th><th>and</th><th>limes</th><th>.</th><tr>\n",
       "<th>labels:</th><th>action</th><th>0</th><th>0</th><th>0</th><th>action</th><th>0</th><th>0</th><th>0</th><th>0</th><th>ingredient</th><th>0</th></tr>\n",
       "<th>Predicitions:</th><th>action</th><th>0</th><th>ingredient</th><th>0</th><th>action</th><th>0</th><th>0</th><th>0</th><th>0</th><th>0</th><th>0</th></tr>\n",
       "</table>\n",
       "\n"
      ],
      "text/plain": [
       "<IPython.core.display.HTML object>"
      ]
     },
     "metadata": {},
     "output_type": "display_data"
    },
    {
     "data": {
      "text/html": [
       "<table>\n",
       "<tr>\n",
       "<th>Sentence:</th>\n",
       "<th>ENJOY</th><th>!</th><tr>\n",
       "<th>labels:</th><th>0</th><th>0</th></tr>\n",
       "<th>Predicitions:</th><th>0</th><th>0</th></tr>\n",
       "</table>\n",
       "\n"
      ],
      "text/plain": [
       "<IPython.core.display.HTML object>"
      ]
     },
     "metadata": {},
     "output_type": "display_data"
    },
    {
     "data": {
      "text/html": [
       "<table>\n",
       "<tr>\n",
       "<th>Sentence:</th>\n",
       "<th>Blend</th><th>all</th><th>ingredients</th><th>except</th><th>COOL_WHIP</th><th>in</th><th>blender</th><th>until</th><th>smooth</th><th>.</th><tr>\n",
       "<th>labels:</th><th>action</th><th>0</th><th>placeholders</th><th>0</th><th>ingredient</th><th>0</th><th>0</th><th>0</th><th>0</th><th>0</th></tr>\n",
       "<th>Predicitions:</th><th>action</th><th>0</th><th>placeholders</th><th>0</th><th>ingredient</th><th>0</th><th>0</th><th>0</th><th>0</th><th>0</th></tr>\n",
       "</table>\n",
       "\n"
      ],
      "text/plain": [
       "<IPython.core.display.HTML object>"
      ]
     },
     "metadata": {},
     "output_type": "display_data"
    },
    {
     "data": {
      "text/html": [
       "<table>\n",
       "<tr>\n",
       "<th>Sentence:</th>\n",
       "<th>Pour</th><th>into</th><th>4</th><th>glasses</th><th>.</th><tr>\n",
       "<th>labels:</th><th>action</th><th>0</th><th>0</th><th>0</th><th>0</th></tr>\n",
       "<th>Predicitions:</th><th>action</th><th>0</th><th>0</th><th>0</th><th>0</th></tr>\n",
       "</table>\n",
       "\n"
      ],
      "text/plain": [
       "<IPython.core.display.HTML object>"
      ]
     },
     "metadata": {},
     "output_type": "display_data"
    },
    {
     "data": {
      "text/html": [
       "<table>\n",
       "<tr>\n",
       "<th>Sentence:</th>\n",
       "<th>Top</th><th>with</th><th>COOL_WHIP</th><th>.</th><tr>\n",
       "<th>labels:</th><th>0</th><th>0</th><th>ingredient</th><th>0</th></tr>\n",
       "<th>Predicitions:</th><th>0</th><th>0</th><th>ingredient</th><th>0</th></tr>\n",
       "</table>\n",
       "\n"
      ],
      "text/plain": [
       "<IPython.core.display.HTML object>"
      ]
     },
     "metadata": {},
     "output_type": "display_data"
    },
    {
     "data": {
      "text/html": [
       "<table>\n",
       "<tr>\n",
       "<th>Sentence:</th>\n",
       "<th>Serve</th><th>immediately</th><th>.</th><tr>\n",
       "<th>labels:</th><th>action</th><th>0</th><th>0</th></tr>\n",
       "<th>Predicitions:</th><th>action</th><th>0</th><th>0</th></tr>\n",
       "</table>\n",
       "\n"
      ],
      "text/plain": [
       "<IPython.core.display.HTML object>"
      ]
     },
     "metadata": {},
     "output_type": "display_data"
    },
    {
     "data": {
      "text/html": [
       "<table>\n",
       "<tr>\n",
       "<th>Sentence:</th>\n",
       "<th>Mix</th><th>all</th><th>together</th><th>and</th><th>fry</th><th>till</th><th>done</th><th>.</th><tr>\n",
       "<th>labels:</th><th>action</th><th>0</th><th>0</th><th>0</th><th>action</th><th>0</th><th>0</th><th>0</th></tr>\n",
       "<th>Predicitions:</th><th>action</th><th>0</th><th>0</th><th>0</th><th>action</th><th>0</th><th>0</th><th>0</th></tr>\n",
       "</table>\n",
       "\n"
      ],
      "text/plain": [
       "<IPython.core.display.HTML object>"
      ]
     },
     "metadata": {},
     "output_type": "display_data"
    },
    {
     "data": {
      "text/html": [
       "<table>\n",
       "<tr>\n",
       "<th>Sentence:</th>\n",
       "<th>(</th><th>I</th><th>use</th><th>all</th><th>liver</th><th>instead</th><th>of</th><th>grnd</th><th>beef</th><th>.</th><th>)</th><tr>\n",
       "<th>labels:</th><th>0</th><th>0</th><th>0</th><th>0</th><th>ingredient</th><th>0</th><th>0</th><th>0</th><th>ingredient</th><th>0</th><th>0</th></tr>\n",
       "<th>Predicitions:</th><th>0</th><th>0</th><th>0</th><th>0</th><th>0</th><th>0</th><th>0</th><th>0</th><th>ingredient</th><th>0</th><th>0</th></tr>\n",
       "</table>\n",
       "\n"
      ],
      "text/plain": [
       "<IPython.core.display.HTML object>"
      ]
     },
     "metadata": {},
     "output_type": "display_data"
    },
    {
     "data": {
      "text/html": [
       "<table>\n",
       "<tr>\n",
       "<th>Sentence:</th>\n",
       "<th>Combine</th><th>all</th><th>ingredients</th><th>in</th><th>a</th><th>covered</th><th>container</th><th>.</th><tr>\n",
       "<th>labels:</th><th>action</th><th>0</th><th>placeholders</th><th>0</th><th>0</th><th>0</th><th>0</th><th>0</th></tr>\n",
       "<th>Predicitions:</th><th>action</th><th>0</th><th>placeholders</th><th>0</th><th>0</th><th>0</th><th>0</th><th>0</th></tr>\n",
       "</table>\n",
       "\n"
      ],
      "text/plain": [
       "<IPython.core.display.HTML object>"
      ]
     },
     "metadata": {},
     "output_type": "display_data"
    },
    {
     "data": {
      "text/html": [
       "<table>\n",
       "<tr>\n",
       "<th>Sentence:</th>\n",
       "<th>Shake</th><th>until</th><th>sugar</th><th>and</th><th>pectin</th><th>are</th><th>dissolved</th><th>.</th><tr>\n",
       "<th>labels:</th><th>0</th><th>0</th><th>action</th><th>0</th><th>ingredient</th><th>0</th><th>0</th><th>0</th></tr>\n",
       "<th>Predicitions:</th><th>action</th><th>0</th><th>action</th><th>0</th><th>ingredient</th><th>0</th><th>0</th><th>0</th></tr>\n",
       "</table>\n",
       "\n"
      ],
      "text/plain": [
       "<IPython.core.display.HTML object>"
      ]
     },
     "metadata": {},
     "output_type": "display_data"
    },
    {
     "data": {
      "text/html": [
       "<table>\n",
       "<tr>\n",
       "<th>Sentence:</th>\n",
       "<th>Cook</th><th>pasta</th><th>according</th><th>to</th><th>package</th><th>directions</th><th>.</th><tr>\n",
       "<th>labels:</th><th>action</th><th>ingredient</th><th>0</th><th>0</th><th>0</th><th>0</th><th>0</th></tr>\n",
       "<th>Predicitions:</th><th>action</th><th>ingredient</th><th>0</th><th>0</th><th>0</th><th>0</th><th>0</th></tr>\n",
       "</table>\n",
       "\n"
      ],
      "text/plain": [
       "<IPython.core.display.HTML object>"
      ]
     },
     "metadata": {},
     "output_type": "display_data"
    },
    {
     "data": {
      "text/html": [
       "<table>\n",
       "<tr>\n",
       "<th>Sentence:</th>\n",
       "<th>Drain</th><th>and</th><th>rinse</th><th>with</th><th>cold_water</th><th>.</th><tr>\n",
       "<th>labels:</th><th>action</th><th>0</th><th>action</th><th>0</th><th>ingredient</th><th>0</th></tr>\n",
       "<th>Predicitions:</th><th>action</th><th>0</th><th>action</th><th>0</th><th>ingredient</th><th>0</th></tr>\n",
       "</table>\n",
       "\n"
      ],
      "text/plain": [
       "<IPython.core.display.HTML object>"
      ]
     },
     "metadata": {},
     "output_type": "display_data"
    },
    {
     "data": {
      "text/html": [
       "<table>\n",
       "<tr>\n",
       "<th>Sentence:</th>\n",
       "<th>Place</th><th>in</th><th>large</th><th>mixing</th><th>bowl</th><th>.</th><tr>\n",
       "<th>labels:</th><th>action</th><th>0</th><th>0</th><th>action</th><th>0</th><th>0</th></tr>\n",
       "<th>Predicitions:</th><th>action</th><th>0</th><th>0</th><th>action</th><th>0</th><th>0</th></tr>\n",
       "</table>\n",
       "\n"
      ],
      "text/plain": [
       "<IPython.core.display.HTML object>"
      ]
     },
     "metadata": {},
     "output_type": "display_data"
    },
    {
     "data": {
      "text/html": [
       "<table>\n",
       "<tr>\n",
       "<th>Sentence:</th>\n",
       "<th>Add</th><th>remaining</th><th>ingredients</th><th>and</th><th>toss</th><th>.</th><tr>\n",
       "<th>labels:</th><th>action</th><th>0</th><th>placeholders</th><th>0</th><th>0</th><th>0</th></tr>\n",
       "<th>Predicitions:</th><th>action</th><th>0</th><th>placeholders</th><th>0</th><th>0</th><th>0</th></tr>\n",
       "</table>\n",
       "\n"
      ],
      "text/plain": [
       "<IPython.core.display.HTML object>"
      ]
     },
     "metadata": {},
     "output_type": "display_data"
    },
    {
     "data": {
      "text/html": [
       "<table>\n",
       "<tr>\n",
       "<th>Sentence:</th>\n",
       "<th>Refrigerate</th><th>until</th><th>ready</th><th>to</th><th>serve</th><th>.</th><tr>\n",
       "<th>labels:</th><th>action</th><th>0</th><th>0</th><th>0</th><th>action</th><th>0</th></tr>\n",
       "<th>Predicitions:</th><th>action</th><th>0</th><th>0</th><th>0</th><th>action</th><th>0</th></tr>\n",
       "</table>\n",
       "\n"
      ],
      "text/plain": [
       "<IPython.core.display.HTML object>"
      ]
     },
     "metadata": {},
     "output_type": "display_data"
    },
    {
     "data": {
      "text/html": [
       "<table>\n",
       "<tr>\n",
       "<th>Sentence:</th>\n",
       "<th>Can</th><th>be</th><th>made</th><th>several</th><th>days</th><th>ahead</th><th>.</th><tr>\n",
       "<th>labels:</th><th>0</th><th>0</th><th>0</th><th>0</th><th>0</th><th>0</th><th>0</th></tr>\n",
       "<th>Predicitions:</th><th>0</th><th>0</th><th>0</th><th>0</th><th>0</th><th>0</th><th>0</th></tr>\n",
       "</table>\n",
       "\n"
      ],
      "text/plain": [
       "<IPython.core.display.HTML object>"
      ]
     },
     "metadata": {},
     "output_type": "display_data"
    },
    {
     "data": {
      "text/html": [
       "<table>\n",
       "<tr>\n",
       "<th>Sentence:</th>\n",
       "<th>Preheat</th><th>greased</th><th>grill</th><th>to</th><th>medium-high</th><th>heat</th><th>.</th><tr>\n",
       "<th>labels:</th><th>0</th><th>0</th><th>containers</th><th>0</th><th>0</th><th>action</th><th>0</th></tr>\n",
       "<th>Predicitions:</th><th>action</th><th>0</th><th>containers</th><th>0</th><th>0</th><th>action</th><th>0</th></tr>\n",
       "</table>\n",
       "\n"
      ],
      "text/plain": [
       "<IPython.core.display.HTML object>"
      ]
     },
     "metadata": {},
     "output_type": "display_data"
    },
    {
     "data": {
      "text/html": [
       "<table>\n",
       "<tr>\n",
       "<th>Sentence:</th>\n",
       "<th>Grill</th><th>fruit</th><th>3</th><th>min</th><th>.</th><tr>\n",
       "<th>labels:</th><th>containers</th><th>ingredient</th><th>0</th><th>ingredient</th><th>0</th></tr>\n",
       "<th>Predicitions:</th><th>0</th><th>ingredient</th><th>0</th><th>ingredient</th><th>0</th></tr>\n",
       "</table>\n",
       "\n"
      ],
      "text/plain": [
       "<IPython.core.display.HTML object>"
      ]
     },
     "metadata": {},
     "output_type": "display_data"
    }
   ],
   "source": [
    "n = 0\n",
    "\n",
    "for i, (features, labels, tokens) in enumerate(data):\n",
    "    if i > 100:\n",
    "        break\n",
    "    \n",
    "    prediction = tagger.tag(features)\n",
    "    \n",
    "    n += len(tokens)\n",
    "    \n",
    "    sentence_as_markdown_table(tokens, labels, prediction)"
   ]
  },
  {
   "cell_type": "code",
   "execution_count": 10,
   "metadata": {},
   "outputs": [
    {
     "data": {
      "text/plain": [
       "730"
      ]
     },
     "execution_count": 10,
     "metadata": {},
     "output_type": "execute_result"
    }
   ],
   "source": [
    "n"
   ]
  },
  {
   "cell_type": "code",
   "execution_count": 16,
   "metadata": {},
   "outputs": [
    {
     "data": {
      "text/plain": [
       "598"
      ]
     },
     "execution_count": 16,
     "metadata": {},
     "output_type": "execute_result"
    }
   ],
   "source": [
    "730 - 92 - 16-24"
   ]
  },
  {
   "cell_type": "code",
   "execution_count": 17,
   "metadata": {},
   "outputs": [
    {
     "data": {
      "text/plain": [
       "0.10821917808219178"
      ]
     },
     "execution_count": 17,
     "metadata": {},
     "output_type": "execute_result"
    }
   ],
   "source": [
    "79/730"
   ]
  },
  {
   "cell_type": "code",
   "execution_count": null,
   "metadata": {},
   "outputs": [],
   "source": []
  }
 ],
 "metadata": {
  "kernelspec": {
   "display_name": "Python 3",
   "language": "python",
   "name": "python3"
  },
  "language_info": {
   "codemirror_mode": {
    "name": "ipython",
    "version": 3
   },
   "file_extension": ".py",
   "mimetype": "text/x-python",
   "name": "python",
   "nbconvert_exporter": "python",
   "pygments_lexer": "ipython3",
   "version": "3.7.5"
  }
 },
 "nbformat": 4,
 "nbformat_minor": 4
}
