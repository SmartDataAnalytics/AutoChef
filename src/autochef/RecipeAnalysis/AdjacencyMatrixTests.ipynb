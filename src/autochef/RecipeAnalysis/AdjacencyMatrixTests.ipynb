{
 "cells": [
  {
   "cell_type": "markdown",
   "metadata": {},
   "source": [
    "# Evaluate Adjacency Matrices"
   ]
  },
  {
   "cell_type": "code",
   "execution_count": 1,
   "metadata": {},
   "outputs": [],
   "source": [
    "import pickle"
   ]
  },
  {
   "cell_type": "code",
   "execution_count": 2,
   "metadata": {},
   "outputs": [],
   "source": [
    "m_act = pickle.load(open(\"m_act.pickle\", \"rb\"))\n",
    "m_mix = pickle.load(open(\"m_mix.pickle\", \"rb\"))\n",
    "m_base_act = pickle.load(open(\"m_base_act.pickle\", \"rb\"))\n",
    "m_base_mix = pickle.load(open(\"m_base_mix.pickle\", \"rb\"))"
   ]
  },
  {
   "cell_type": "code",
   "execution_count": 3,
   "metadata": {},
   "outputs": [],
   "source": [
    "c_act = m_act.get_csr()\n",
    "c_mix = m_mix.get_csr()\n",
    "c_base_act = m_base_act.get_csr()\n",
    "c_base_mix = m_base_mix.get_csr()"
   ]
  },
  {
   "cell_type": "code",
   "execution_count": null,
   "metadata": {},
   "outputs": [],
   "source": []
  }
 ],
 "metadata": {
  "kernelspec": {
   "display_name": "Python 3",
   "language": "python",
   "name": "python3"
  },
  "language_info": {
   "codemirror_mode": {
    "name": "ipython",
    "version": 3
   },
   "file_extension": ".py",
   "mimetype": "text/x-python",
   "name": "python",
   "nbconvert_exporter": "python",
   "pygments_lexer": "ipython3",
   "version": "3.7.5rc1"
  }
 },
 "nbformat": 4,
 "nbformat_minor": 4
}
