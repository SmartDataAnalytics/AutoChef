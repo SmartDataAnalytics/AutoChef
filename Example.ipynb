{
 "cells": [
  {
   "cell_type": "code",
   "execution_count": null,
   "metadata": {},
   "outputs": [],
   "source": [
    "import autochef\n",
    "\n",
    "from autochef.EvolutionaryAlgorithm import EvolutionaryAlgorithm as EA"
   ]
  },
  {
   "cell_type": "code",
   "execution_count": null,
   "metadata": {},
   "outputs": [],
   "source": [
    "# define the set of input ingredients and it's subset of main ingredients\n",
    "\n",
    "all_ingredients = [\"bread\", \"butter\"]\n",
    "main_ingredients = [\"bread\"]\n",
    "\n",
    "# define range of additional ingredients\n",
    "min_add = 4\n",
    "max_add = 13\n",
    "\n",
    "# population size:\n",
    "n_pop = 50\n",
    "\n",
    "# mutations rate (given in number of node mutations for each tree)\n",
    "mutations = 2\n",
    "\n",
    "# if pairwise competition is false, just the best n_pop/2 individuals survive\n",
    "pairwise_competition = True"
   ]
  },
  {
   "cell_type": "code",
   "execution_count": null,
   "metadata": {},
   "outputs": [],
   "source": [
    "# create Population\n",
    "\n",
    "p = EA.Population(\n",
    "    all_ingredients,\n",
    "    main_ingredients,\n",
    "    min_additional=min_add,\n",
    "    max_additional=max_add,\n",
    "    n_population = n_pop,\n",
    "    mutations=mutations,\n",
    "    pairwise_competition=pairwise_competition\n",
    ")"
   ]
  },
  {
   "cell_type": "code",
   "execution_count": null,
   "metadata": {},
   "outputs": [],
   "source": [
    "# run over 10 cycles\n",
    "\n",
    "fitness_logs = p.run(10)"
   ]
  },
  {
   "cell_type": "code",
   "execution_count": null,
   "metadata": {},
   "outputs": [],
   "source": [
    "p.plot_population(n_best=3)"
   ]
  }
 ],
 "metadata": {
  "kernelspec": {
   "display_name": "Python 3",
   "language": "python",
   "name": "python3"
  },
  "language_info": {
   "codemirror_mode": {
    "name": "ipython",
    "version": 3
   },
   "file_extension": ".py",
   "mimetype": "text/x-python",
   "name": "python",
   "nbconvert_exporter": "python",
   "pygments_lexer": "ipython3",
   "version": "3.7.5"
  }
 },
 "nbformat": 4,
 "nbformat_minor": 4
}
